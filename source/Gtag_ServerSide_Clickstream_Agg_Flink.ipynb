{
  "cells": [
    {
      "cell_type": "markdown",
      "metadata": {},
      "source": [
        "Copyright Amazon.com, Inc. or its affiliates. All Rights Reserved.\n",
        "Licensed under the Apache License Version 2.0 (the \"License\"). You may not use this file except\n",
        "in compliance with the License. A copy of the License is located at http://www.apache.org/licenses/\n",
        "or in the \"license\" file accompanying this file. This file is distributed on an \"AS IS\" BASIS,\n",
        "WITHOUT WARRANTIES OR CONDITIONS OF ANY KIND, express or implied. See the License for the\n",
        "specific language governing permissions and limitations under the License.\n",
        "\n",
        "This is a sample code that you can use with AWS Managed Flink to analyze the click stream data collected through the AWS analytics stack. At this point flink resources are not part of the CDK and needs to be created manually to use this notebook"
      ]
    },
    {
      "cell_type": "code",
      "execution_count": null,
      "metadata": {
        "autoscroll": "auto"
      },
      "outputs": [],
      "source": [
        "%flink.ssql\n",
        "-- ========== Kinesis ==========\n",
        "-- https://ci.apache.org/projects/flink/flink-docs-release-1.12/dev/table/connectors/kinesis.html\n",
        "\n",
        "-- CREATE TABLE `my_table` (\n",
        "--   `column1` STRING,\n",
        "--   `column2` BIGINT\n",
        "-- )\n",
        "-- WITH (\n",
        "--   'connector' = 'kinesis',\n",
        "--   'stream' = 'my_kinesis_stream',\n",
        "--   'aws.region' = 'kinesis-stream-aws-region',\n",
        "--   'scan.stream.initpos' = 'LATEST',\n",
        "--   'format' = 'csv'\n",
        "-- );\n",
        "CREATE OR REPLACE  TABLE `click_stream_live_stream`(\n",
        "  `x-ga-protocol_version` string , \n",
        "  `x-ga-measurement_id` string , \n",
        "  `x-ga-gtm_version` string , \n",
        "  `x-ga-page_id` bigint , \n",
        "  `x-ga-mp2-gcd` string , \n",
        "  `x-ga-dma` string , \n",
        "  `x-ga-gdid` string , \n",
        "  `client_id` string , \n",
        "  `language` string , \n",
        "  `screen_resolution` string , \n",
        "  `x-ga-are` string , \n",
        "  `x-ga-request_count` int , \n",
        "  `page_location` string , \n",
        "  `page_referrer` string , \n",
        "  `ga_session_id` string , \n",
        "  `ga_session_number` int , \n",
        "  `x-ga-mp2-seg` string , \n",
        "  `page_title` string , \n",
        "  `event_name` string , \n",
        "  `x-ga-tfd` int , \n",
        "  `ip_override` string , \n",
        "  `user_agent` string , \n",
        "  `engagement_time_msec` int )\n",
        "WITH (\n",
        "  'connector' = 'kinesis',\n",
        "  'stream' = 'gtagStream',\n",
        "  'aws.region' = 'us-west-2',\n",
        "  'scan.stream.initpos' = 'LATEST',\n",
        "  'format' = 'json'\n",
        ");\n"
      ]
    },
    {
      "cell_type": "code",
      "execution_count": 1,
      "metadata": {
        "autoscroll": "auto"
      },
      "outputs": [],
      "source": [
        "%flink.ssql(type=update)\n",
        "\n",
        "SELECT count(*) as event_count,\n",
        "    event_name,\n",
        "    page_location,\n",
        "    ga_session_id\n",
        "FROM click_stream_live_stream\n",
        "group by\n",
        "    page_location,\n",
        "    ga_session_id,\n",
        "    event_name;"
      ]
    },
    {
      "cell_type": "code",
      "execution_count": 2,
      "metadata": {
        "autoscroll": "auto"
      },
      "outputs": [],
      "source": [
        "%flink.ssql\n"
      ]
    }
  ],
  "metadata": {
    "kernelspec": {
      "language": "scala",
      "name": "spark2-scala"
    },
    "language_info": {
      "codemirror_mode": "text/x-scala",
      "file_extension": ".scala",
      "mimetype": "text/x-scala",
      "name": "scala",
      "pygments_lexer": "scala"
    },
    "name": "Gtag_ServerSide_Clickstream_Agg_Flink"
  },
  "nbformat": 4,
  "nbformat_minor": 2
}
