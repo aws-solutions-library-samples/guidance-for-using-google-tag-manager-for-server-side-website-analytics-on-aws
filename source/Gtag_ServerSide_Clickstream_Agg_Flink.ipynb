﻿{
  "metadata": {
    "name": "Gtag_ServerSide_Clickstream_Agg_Flink",
    "kernelspec": {
      "language": "scala",
      "name": "spark2-scala"
    },
    "language_info": {
      "codemirror_mode": "text/x-scala",
      "file_extension": ".scala",
      "mimetype": "text/x-scala",
      "name": "scala",
      "pygments_lexer": "scala"
    }
  },
  "nbformat": 4,
  "nbformat_minor": 2,
  "cells": [
    {
      "cell_type": "code",
      "execution_count": 0,
      "metadata": {
        "autoscroll": "auto"
      },
      "outputs": [],
      "source": "%flink.ssql\n-- \u003d\u003d\u003d\u003d\u003d\u003d\u003d\u003d\u003d\u003d Kinesis \u003d\u003d\u003d\u003d\u003d\u003d\u003d\u003d\u003d\u003d\n-- https://ci.apache.org/projects/flink/flink-docs-release-1.12/dev/table/connectors/kinesis.html\n\n-- CREATE TABLE `my_table` (\n--   `column1` STRING,\n--   `column2` BIGINT\n-- )\n-- WITH (\n--   \u0027connector\u0027 \u003d \u0027kinesis\u0027,\n--   \u0027stream\u0027 \u003d \u0027my_kinesis_stream\u0027,\n--   \u0027aws.region\u0027 \u003d \u0027kinesis-stream-aws-region\u0027,\n--   \u0027scan.stream.initpos\u0027 \u003d \u0027LATEST\u0027,\n--   \u0027format\u0027 \u003d \u0027csv\u0027\n-- );\nCREATE OR REPLACE  TABLE `click_stream_live_stream`(\n  `x-ga-protocol_version` string , \n  `x-ga-measurement_id` string , \n  `x-ga-gtm_version` string , \n  `x-ga-page_id` bigint , \n  `x-ga-mp2-gcd` string , \n  `x-ga-dma` string , \n  `x-ga-gdid` string , \n  `client_id` string , \n  `language` string , \n  `screen_resolution` string , \n  `x-ga-are` string , \n  `x-ga-request_count` int , \n  `page_location` string , \n  `page_referrer` string , \n  `ga_session_id` string , \n  `ga_session_number` int , \n  `x-ga-mp2-seg` string , \n  `page_title` string , \n  `event_name` string , \n  `x-ga-tfd` int , \n  `ip_override` string , \n  `user_agent` string , \n  `engagement_time_msec` int )\nWITH (\n  \u0027connector\u0027 \u003d \u0027kinesis\u0027,\n  \u0027stream\u0027 \u003d \u0027gtagStream\u0027,\n  \u0027aws.region\u0027 \u003d \u0027us-west-2\u0027,\n  \u0027scan.stream.initpos\u0027 \u003d \u0027LATEST\u0027,\n  \u0027format\u0027 \u003d \u0027json\u0027\n);\n"
    },
    {
      "cell_type": "code",
      "execution_count": 1,
      "metadata": {
        "autoscroll": "auto"
      },
      "outputs": [],
      "source": "%flink.ssql(type\u003dupdate)\n\nSELECT count(*) as event_count,\n    event_name,\n    page_location,\n    ga_session_id\nFROM click_stream_live_stream\ngroup by\n    page_location,\n    ga_session_id,\n    event_name;"
    },
    {
      "cell_type": "code",
      "execution_count": 2,
      "metadata": {
        "autoscroll": "auto"
      },
      "outputs": [],
      "source": "%flink.ssql\n"
    }
  ]
}